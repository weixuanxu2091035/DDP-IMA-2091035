{
  "cells": [
    {
      "cell_type": "markdown",
      "metadata": {
        "id": "view-in-github",
        "colab_type": "text"
      },
      "source": [
        "<a href=\"https://colab.research.google.com/github/weixuanxu2091035/DDP-IMA-2091035/blob/main/Templates.ipynb\" target=\"_parent\"><img src=\"https://colab.research.google.com/assets/colab-badge.svg\" alt=\"Open In Colab\"/></a>"
      ]
    },
    {
      "cell_type": "code",
      "execution_count": null,
      "metadata": {
        "id": "Kwi1iX5bh8pK"
      },
      "outputs": [],
      "source": [
        "!pip install flask-ngrok\n",
        "!pip install pyngrok\n",
        "!pip install flask-wtf\n",
        "\n",
        "!ngrok authtoken \"26C3cG9AlV7TyAHWHdhMtx4Gjfi_2Zyc6bpn8E2jEegZiqHow\""
      ]
    },
    {
      "cell_type": "code",
      "execution_count": null,
      "metadata": {
        "id": "RntjmU0xiJVE"
      },
      "outputs": [],
      "source": [
        "!git clone \"https://github.com/weixuanxu2091035/templates\""
      ]
    },
    {
      "cell_type": "code",
      "execution_count": 3,
      "metadata": {
        "id": "5WhWoA4iiQew"
      },
      "outputs": [],
      "source": [
        "import os\n",
        "os.chdir(\"/content/templates\")"
      ]
    },
    {
      "cell_type": "code",
      "execution_count": 6,
      "metadata": {
        "colab": {
          "base_uri": "https://localhost:8080/"
        },
        "id": "MN8tqCYQiV-k",
        "outputId": "db3ae9e7-7d75-4616-957f-b673b8c9eccf"
      },
      "outputs": [
        {
          "output_type": "stream",
          "name": "stdout",
          "text": [
            " * Serving Flask app \"__main__\" (lazy loading)\n",
            " * Environment: production\n",
            "\u001b[31m   WARNING: This is a development server. Do not use it in a production deployment.\u001b[0m\n",
            "\u001b[2m   Use a production WSGI server instead.\u001b[0m\n",
            " * Debug mode: off\n"
          ]
        },
        {
          "output_type": "stream",
          "name": "stderr",
          "text": [
            " * Running on http://127.0.0.1:5000/ (Press CTRL+C to quit)\n"
          ]
        },
        {
          "output_type": "stream",
          "name": "stdout",
          "text": [
            " * Running on http://1d97-34-125-135-25.ngrok.io\n",
            " * Traffic stats available on http://127.0.0.1:4040\n"
          ]
        },
        {
          "output_type": "stream",
          "name": "stderr",
          "text": [
            "127.0.0.1 - - [10/Mar/2022 20:12:37] \"\u001b[37mGET / HTTP/1.1\u001b[0m\" 200 -\n",
            "127.0.0.1 - - [10/Mar/2022 20:12:37] \"\u001b[37mGET /static/style.css HTTP/1.1\u001b[0m\" 200 -\n",
            "127.0.0.1 - - [10/Mar/2022 20:12:37] \"\u001b[37mGET /static/Images/Weixuan_Xu.JPG HTTP/1.1\u001b[0m\" 200 -\n",
            "127.0.0.1 - - [10/Mar/2022 20:12:37] \"\u001b[37mGET /static/Images/dancing.jpeg HTTP/1.1\u001b[0m\" 200 -\n",
            "127.0.0.1 - - [10/Mar/2022 20:12:37] \"\u001b[37mGET /static/Images/reading.jpeg HTTP/1.1\u001b[0m\" 200 -\n",
            "127.0.0.1 - - [10/Mar/2022 20:12:37] \"\u001b[37mGET /static/Images/singing.png HTTP/1.1\u001b[0m\" 200 -\n",
            "127.0.0.1 - - [10/Mar/2022 20:12:41] \"\u001b[37mGET /static/Images/icon.ico HTTP/1.1\u001b[0m\" 200 -\n"
          ]
        }
      ],
      "source": [
        "from flask import *\n",
        "from flask_ngrok import run_with_ngrok\n",
        "\n",
        "app = Flask(__name__)\n",
        "\n",
        "'''\n",
        "app_data = {\n",
        "    #\"name\":         \"Peter's Starter Template for a Flask Web App\",\n",
        "    #\"description\":  \"A basic Flask app using bootstrap for layout\",\n",
        "    #\"author\":       \"Peter Simeth\",\n",
        "    \"html_title\":   \"Weixuan's Starter Template for a Flask Web App\",\n",
        "    #\"project_name\": \"Starter Template\",\n",
        "    #\"keywords\":     \"flask, webapp, template, basic\"\n",
        "}\n",
        "'''\n",
        "\n",
        "@app.route('/')\n",
        "def index():\n",
        "    #return render_template('index.html', app_data=app_data)\n",
        "    return render_template('index.html')\n",
        "\n",
        "run_with_ngrok(app)\n",
        "app.run()"
      ]
    }
  ],
  "metadata": {
    "colab": {
      "collapsed_sections": [],
      "name": "Templates.ipynb",
      "provenance": [],
      "authorship_tag": "ABX9TyOp6xygq86HGP4gosXgLu0P",
      "include_colab_link": true
    },
    "kernelspec": {
      "display_name": "Python 3",
      "name": "python3"
    },
    "language_info": {
      "name": "python"
    }
  },
  "nbformat": 4,
  "nbformat_minor": 0
}